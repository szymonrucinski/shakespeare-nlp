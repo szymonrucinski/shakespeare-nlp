{
 "cells": [
  {
   "cell_type": "code",
   "execution_count": 8,
   "id": "b13020bf",
   "metadata": {},
   "outputs": [],
   "source": [
    "# A few imports useful to any data scientist.\n",
    "import pandas as pd\n",
    "import numpy as np\n",
    "import random\n",
    "pd.set_option('display.max_columns', 5000)"
   ]
  },
  {
   "cell_type": "markdown",
   "id": "37b7c028",
   "metadata": {},
   "source": [
    "![Shakespeare](shakespeare.jpg \"William Shakespeare\")\n",
    "\n",
    "<h3>William Shakespeare is a little-known playwright from the 16th and 17th centuries.\n",
    "In the following few exercises, we have a look at lines from Shakespeare's plays\n",
    "and try to implement a simple text generator to write just like Shakespeare.</h3>\n",
    "\n",
    "Note: You are free to solve exercises in any manner you wish. There is no specific requirement to use the code already provided in the notebook cells, but the code is there in case you choose to use it."
   ]
  },
  {
   "cell_type": "markdown",
   "id": "ab1521ee",
   "metadata": {},
   "source": [
    "A dataset has been kindly provided to us by the fine folks at Kaggle. This dataset contains every line from every major Shakespeare play, along with information about the current actor speaking the line, the play this line originated from, etc."
   ]
  },
  {
   "cell_type": "code",
   "execution_count": 11,
   "id": "3ddaa5ac",
   "metadata": {},
   "outputs": [],
   "source": [
    "# Dataset is provided as both a pandas dataframe or a tuple list. Again, if you prefer using another format, you are free to do so.\n",
    "dataset = pd.read_csv(\"Shakespeare_data.csv\")\n",
    "dataset_list = list(dataset.itertuples(index=False, name=None))"
   ]
  },
  {
   "cell_type": "markdown",
   "id": "7c53540f",
   "metadata": {},
   "source": [
    "Let's view the first ten elements of the dataset to get an idea about our data."
   ]
  },
  {
   "cell_type": "code",
   "execution_count": 13,
   "id": "bacf6dc9",
   "metadata": {},
   "outputs": [
    {
     "name": "stdout",
     "output_type": "stream",
     "text": [
      "\n",
      "   Dataline      Play  PlayerLinenumber ActSceneLine         Player  \\\n",
      "0         1  Henry IV               NaN          NaN            NaN   \n",
      "1         2  Henry IV               NaN          NaN            NaN   \n",
      "2         3  Henry IV               NaN          NaN            NaN   \n",
      "3         4  Henry IV               1.0        1.1.1  KING HENRY IV   \n",
      "4         5  Henry IV               1.0        1.1.2  KING HENRY IV   \n",
      "\n",
      "                                          PlayerLine  \n",
      "0                                              ACT I  \n",
      "1                       SCENE I. London. The palace.  \n",
      "2  Enter KING HENRY, LORD JOHN OF LANCASTER, the ...  \n",
      "3             So shaken as we are, so wan with care,  \n",
      "4         Find we a time for frighted peace to pant,  \n",
      "\n",
      "(1, 'Henry IV', nan, nan, nan, 'ACT I')\n",
      "(2, 'Henry IV', nan, nan, nan, 'SCENE I. London. The palace.')\n",
      "(3, 'Henry IV', nan, nan, nan, 'Enter KING HENRY, LORD JOHN OF LANCASTER, the EARL of WESTMORELAND, SIR WALTER BLUNT, and others')\n",
      "(4, 'Henry IV', 1.0, '1.1.1', 'KING HENRY IV', 'So shaken as we are, so wan with care,')\n",
      "(5, 'Henry IV', 1.0, '1.1.2', 'KING HENRY IV', 'Find we a time for frighted peace to pant,')\n"
     ]
    }
   ],
   "source": [
    "def view_data():\n",
    "    print()\n",
    "    print(dataset.head())\n",
    "    print()\n",
    "    for d in dataset_list[:5]:\n",
    "        print(d)\n",
    "\n",
    "view_data()"
   ]
  },
  {
   "cell_type": "markdown",
   "id": "4be2f968",
   "metadata": {},
   "source": [
    "<h4>EXERCISE 1: Drop from our dataset all lines which are not dialogue.</h4>\n",
    "\n",
    "Example input dataset (first six rows):\\\n",
    "(1, 'Henry IV', nan, nan, nan, 'ACT I')\\\n",
    "(2, 'Henry IV', nan, nan, nan, 'SCENE I. London. The palace.')\\\n",
    "(3, 'Henry IV', nan, nan, nan, 'Enter KING HENRY, LORD JOHN OF LANCASTER, the EARL of WESTMORELAND, SIR WALTER BLUNT, and others')\\\n",
    "(4, 'Henry IV', 1.0, '1.1.1', 'KING HENRY IV', 'So shaken as we are, so wan with care,')\\\n",
    "(5, 'Henry IV', 1.0, '1.1.2', 'KING HENRY IV', 'Find we a time for frighted peace to pant,')\\\n",
    "(6, 'Henry IV', 1.0, '1.1.3', 'KING HENRY IV', 'And breathe short-winded accents of new broils')\n",
    "\n",
    "Example output dataset (first six rows):\\\n",
    "(4, 'Henry IV', 1.0, '1.1.1', 'KING HENRY IV', 'So shaken as we are, so wan with care,')\\\n",
    "(5, 'Henry IV', 1.0, '1.1.2', 'KING HENRY IV', 'Find we a time for frighted peace to pant,')\\\n",
    "(6, 'Henry IV', 1.0, '1.1.3', 'KING HENRY IV', 'And breathe short-winded accents of new broils')\\\n",
    "(7, 'Henry IV', 1.0, '1.1.4', 'KING HENRY IV', 'To be commenced in strands afar remote.')\\\n",
    "(8, 'Henry IV', 1.0, '1.1.5', 'KING HENRY IV', 'No more the thirsty entrance of this soil')\\\n",
    "(9, 'Henry IV', 1.0, '1.1.6', 'KING HENRY IV', \"Shall daub her lips with her own children's blood,\")"
   ]
  },
  {
   "cell_type": "code",
   "execution_count": null,
   "id": "9d6ba2c8",
   "metadata": {},
   "outputs": [],
   "source": []
  },
  {
   "cell_type": "markdown",
   "id": "fac0e59d",
   "metadata": {},
   "source": [
    "<h4>EXERCISE 2: Group all dialogue lines for the entire dataset together into a single large string (join lines by a single whitespace).</h4>\t\n",
    "\n",
    "Example input dataset (first six rows):\\\n",
    "(4, 'Henry IV', 1.0, '1.1.1', 'KING HENRY IV', 'So shaken as we are, so wan with care,')\\\n",
    "(5, 'Henry IV', 1.0, '1.1.2', 'KING HENRY IV', 'Find we a time for frighted peace to pant,')\\\n",
    "(6, 'Henry IV', 1.0, '1.1.3', 'KING HENRY IV', 'And breathe short-winded accents of new broils')\\\n",
    "(7, 'Henry IV', 1.0, '1.1.4', 'KING HENRY IV', 'To be commenced in strands afar remote.')\\\n",
    "(8, 'Henry IV', 1.0, '1.1.5', 'KING HENRY IV', 'No more the thirsty entrance of this soil')\\\n",
    "(9, 'Henry IV', 1.0, '1.1.6', 'KING HENRY IV', \"Shall daub her lips with her own children's blood,\")\n",
    "\n",
    "Example output string:\\\n",
    "So shaken as we are, so wan with care, Find we a time for frighted peace to pant, And breathe short-winded accents of new broils To be commenced in strands afar remote. No more the thirsty entrance of this soil Shall daub her lips with her own children's blood, "
   ]
  },
  {
   "cell_type": "code",
   "execution_count": null,
   "id": "c8ddea5d",
   "metadata": {},
   "outputs": [],
   "source": []
  },
  {
   "cell_type": "markdown",
   "id": "ba101f94",
   "metadata": {},
   "source": [
    "<h4>EXERCISE 3: Implement a simple tokenization: disregard any non-alpha characters except\n",
    ".!?:', which you should treat as single tokens. All other words should be regarded as\n",
    "single tokens. Convert all word tokens to lowercase.</h4>\n",
    "\n",
    "Example input: \"So shaken as we are, so wan with care, Find we a time\"\n",
    "\n",
    "Example output: ['so', 'shaken', 'as', 'we', 'are', ',', 'so', 'wan', 'with', 'care']"
   ]
  },
  {
   "cell_type": "code",
   "execution_count": null,
   "id": "6ea5ddcc",
   "metadata": {},
   "outputs": [],
   "source": [
    "punctuation = \".!?:',\""
   ]
  },
  {
   "cell_type": "markdown",
   "id": "ad65bed4",
   "metadata": {},
   "source": [
    "<h4>EXERCISE 4: List the 50 most common tokens and their occurrence amount.</h4>\n",
    "\n",
    "Example output:\\\n",
    "{',': 95042, '.': 33787, 'the': 26027, \"'\": 24099, 'and': 23443, 'i': 21772, 'to': 18800, 'of': 15446, 'you': 13579, ':': 13507, 'a': 13481, 'my': 11875, 'that': 10843, 'in': 10365, '?': 10039, 'is': 8997, '!': 8855, 'not': 8234, 'it': 7492, 'me': 7489, 'for': 7433, 's': 7121, 'with': 6957, 'be': 6697, 'he': 6521, 'your': 6507, 'this': 6446, 'his': 6347, 'but': 5985, 'have': 5754, 'as': 5500, 'thou': 5273, 'd': 5062, 'him': 4960, 'will': 4864 ... }"
   ]
  },
  {
   "cell_type": "code",
   "execution_count": null,
   "id": "1b1dee09",
   "metadata": {},
   "outputs": [],
   "source": []
  },
  {
   "cell_type": "markdown",
   "id": "59c23437",
   "metadata": {},
   "source": [
    "<h4>EXERCISE 5: For each word, instantiate a dictionary of words that follow it in the corpus,\n",
    "as well as the number of occurrences of follow words.</h4>\n",
    "\n",
    "Input: ['we', 'did', 'not', 'think', 'we', 'did', 'bad', '.']\n",
    "\n",
    "Output: {\n",
    "    'we': {'did': 2},\n",
    "    'did': {'not': 1, 'bad': 1},\n",
    "    'not': {'think': 1},\n",
    "    'think': {'we': 1},\n",
    "    'bad': {'.': 1},\n",
    "}"
   ]
  },
  {
   "cell_type": "code",
   "execution_count": null,
   "id": "8df3711e",
   "metadata": {},
   "outputs": [],
   "source": [
    "from collections import defaultdict\n",
    "\n",
    "\n",
    "class ZeroDict(dict):\n",
    "\n",
    "    def __missing__(self, key):\n",
    "        return 0"
   ]
  },
  {
   "cell_type": "markdown",
   "id": "e6ea7e17",
   "metadata": {},
   "source": [
    "<h4>EXERCISE 6: Starting from a single word, \"i\", generate text by sampling possible subsequent words given the word statistics you previously built, up to 1000 tokens.</h4>"
   ]
  },
  {
   "cell_type": "code",
   "execution_count": null,
   "id": "6bf98a59",
   "metadata": {},
   "outputs": [],
   "source": [
    "seq = ['i']\n",
    "\n",
    "# Do text generation...\n",
    "\n",
    "\n",
    "\n",
    "# End text generation.\n",
    "\n",
    "print(\" \".join(seq))"
   ]
  },
  {
   "cell_type": "markdown",
   "id": "ddc4cc49",
   "metadata": {},
   "source": [
    "<h4>EXERCISE 7: What kind of avenues would you think of to improve this text generation?</h4>"
   ]
  }
 ],
 "metadata": {
  "kernelspec": {
   "display_name": "Python 3 (ipykernel)",
   "language": "python",
   "name": "python3"
  },
  "language_info": {
   "codemirror_mode": {
    "name": "ipython",
    "version": 3
   },
   "file_extension": ".py",
   "mimetype": "text/x-python",
   "name": "python",
   "nbconvert_exporter": "python",
   "pygments_lexer": "ipython3",
   "version": "3.11.2"
  }
 },
 "nbformat": 4,
 "nbformat_minor": 5
}
